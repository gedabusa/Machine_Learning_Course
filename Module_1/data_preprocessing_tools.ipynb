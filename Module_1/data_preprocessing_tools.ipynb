{
  "nbformat": 4,
  "nbformat_minor": 0,
  "metadata": {
    "colab": {
      "name": "data_preprocessing_tools.ipynb",
      "provenance": [],
      "collapsed_sections": [],
      "toc_visible": true,
      "include_colab_link": true
    },
    "kernelspec": {
      "name": "python3",
      "display_name": "Python 3"
    }
  },
  "cells": [
    {
      "cell_type": "markdown",
      "metadata": {
        "id": "view-in-github",
        "colab_type": "text"
      },
      "source": [
        "<a href=\"https://colab.research.google.com/github/gedabusa/Machine_Learning_Course/blob/master/Module_1/data_preprocessing_tools.ipynb\" target=\"_parent\"><img src=\"https://colab.research.google.com/assets/colab-badge.svg\" alt=\"Open In Colab\"/></a>"
      ]
    },
    {
      "cell_type": "markdown",
      "metadata": {
        "id": "37puETfgRzzg",
        "colab_type": "text"
      },
      "source": [
        "# Data Preprocessing Tools"
      ]
    },
    {
      "cell_type": "markdown",
      "metadata": {
        "id": "EoRP98MpR-qj",
        "colab_type": "text"
      },
      "source": [
        "## Importing the libraries"
      ]
    },
    {
      "cell_type": "markdown",
      "metadata": {
        "id": "KF0C0IZIH3de",
        "colab_type": "text"
      },
      "source": [
        "In this first step, we import all libraries used for loading dataset, ploting results and handling data. Pandas loads data from files as .csv, .json and databases. Numpy handles dataframes and Matplotlib creates plot with transfomed data."
      ]
    },
    {
      "cell_type": "code",
      "metadata": {
        "id": "DDtgFoTKR08n",
        "colab_type": "code",
        "colab": {}
      },
      "source": [
        "import pandas as pd\n",
        "import numpy as np\n",
        "import matplotlib.pyplot as plt"
      ],
      "execution_count": 2,
      "outputs": []
    },
    {
      "cell_type": "markdown",
      "metadata": {
        "id": "RopL7tUZSQkT",
        "colab_type": "text"
      },
      "source": [
        "## Importing the dataset"
      ]
    },
    {
      "cell_type": "markdown",
      "metadata": {
        "id": "rxtiZhi0K5Il",
        "colab_type": "text"
      },
      "source": [
        "Data.csv is a file with 4 columns that specifies the purchases in a site. In 3 first columns, we find independent variables, as country where client purchased from, age and salary from it. The last one is a flag whether or not the client purchased the product.\n",
        "\n",
        "Using function __iloc__, we can slice the dataset, knowing the column order and the dependence between them. the result is two vectors. "
      ]
    },
    {
      "cell_type": "code",
      "metadata": {
        "id": "uSNrUXcOSBZa",
        "colab_type": "code",
        "colab": {}
      },
      "source": [
        "df = pd.read_csv(\"Data.csv\")\n",
        "X = df.iloc[:, :-1].values\n",
        "Y = df.iloc[:, -1].values"
      ],
      "execution_count": 3,
      "outputs": []
    },
    {
      "cell_type": "code",
      "metadata": {
        "id": "Qqdlf7mBUn_d",
        "colab_type": "code",
        "colab": {
          "base_uri": "https://localhost:8080/",
          "height": 191
        },
        "outputId": "380b0549-a509-40c2-8980-c5bbfe04852e"
      },
      "source": [
        "print(X)"
      ],
      "execution_count": 4,
      "outputs": [
        {
          "output_type": "stream",
          "text": [
            "[['France' 44.0 72000.0]\n",
            " ['Spain' 27.0 48000.0]\n",
            " ['Germany' 30.0 54000.0]\n",
            " ['Spain' 38.0 61000.0]\n",
            " ['Germany' 40.0 nan]\n",
            " ['France' 35.0 58000.0]\n",
            " ['Spain' nan 52000.0]\n",
            " ['France' 48.0 79000.0]\n",
            " ['Germany' 50.0 83000.0]\n",
            " ['France' 37.0 67000.0]]\n"
          ],
          "name": "stdout"
        }
      ]
    },
    {
      "cell_type": "code",
      "metadata": {
        "id": "D9iqFP1kU4KJ",
        "colab_type": "code",
        "colab": {
          "base_uri": "https://localhost:8080/",
          "height": 34
        },
        "outputId": "6ff8917b-c113-405d-b303-aee907edf924"
      },
      "source": [
        "print(Y)"
      ],
      "execution_count": 5,
      "outputs": [
        {
          "output_type": "stream",
          "text": [
            "['No' 'Yes' 'No' 'No' 'Yes' 'Yes' 'No' 'Yes' 'No' 'Yes']\n"
          ],
          "name": "stdout"
        }
      ]
    },
    {
      "cell_type": "markdown",
      "metadata": {
        "id": "nhfKXNxlSabC",
        "colab_type": "text"
      },
      "source": [
        "## Taking care of missing data"
      ]
    },
    {
      "cell_type": "markdown",
      "metadata": {
        "id": "6dPVj8b6TMU0",
        "colab_type": "text"
      },
      "source": [
        "If you let the data as they are saved in the dataset, if could gerate errors in your machine learning model. There are many approaches how to lead with null and missing data in your dataset. You can modify the value for some statistical measure, remove data from dataset or put in zero.\n",
        "\n",
        "_Sklearn_ already uses functions to modify values into dataset. In this example, we are going to replace missing values for mean itself. In order to aplly on the datset, we must call transformation function. The implementation can be done separately, first calling fit function to calcule mean and then calling transformation function to do it inside dataset."
      ]
    },
    {
      "cell_type": "code",
      "metadata": {
        "id": "6jsx2nG_nRPS",
        "colab_type": "code",
        "colab": {}
      },
      "source": [
        "from sklearn.impute import SimpleImputer\n",
        "imputer = SimpleImputer(missing_values=np.nan, strategy='mean')\n",
        "imputer.fit(X[:, 1:3])\n",
        "X[:, 1:3] = imputer.transform(X[:, 1:3])"
      ],
      "execution_count": 6,
      "outputs": []
    },
    {
      "cell_type": "markdown",
      "metadata": {
        "id": "CriG6VzVSjcK",
        "colab_type": "text"
      },
      "source": [
        "## Encoding categorical data"
      ]
    },
    {
      "cell_type": "markdown",
      "metadata": {
        "id": "qRR-1dQ0sAGk",
        "colab_type": "text"
      },
      "source": [
        "The simplest implementation to use string values is to transform them in numeric values. It can be realized converting classes in columns. for example, for country column, we find three diferents countries. we can change \n",
        "the first country by zero, the second one by one and the last one by two. the problem of using that concept is our model would assume the data like a order list instead of a classification.\n",
        "\n",
        "The best approach is to create one column by each existent country and then we fill the columns up with binary value. For example, for France will have the vector [1 0 0], for Spain [0 1 0] and for Germany [0 0 1]."
      ]
    },
    {
      "cell_type": "markdown",
      "metadata": {
        "id": "AhSpdQWeSsFh",
        "colab_type": "text"
      },
      "source": [
        "### Encoding the Independent Variable"
      ]
    },
    {
      "cell_type": "code",
      "metadata": {
        "id": "BLX1vBjc0ckP",
        "colab_type": "code",
        "colab": {}
      },
      "source": [
        "from sklearn.compose import ColumnTransformer\n",
        "from sklearn.preprocessing import OneHotEncoder\n",
        "ct = ColumnTransformer(transformers= [('encoder', OneHotEncoder(), [0])], remainder= 'passthrough')\n",
        "# type of transformation\n",
        "# kind of transformation\n",
        "\n",
        "# Remainder... To keep the columns in the dataset\n",
        "X = np.array(ct.fit_transform(X))"
      ],
      "execution_count": 7,
      "outputs": []
    },
    {
      "cell_type": "code",
      "metadata": {
        "id": "qB0GrsPz2fpO",
        "colab_type": "code",
        "colab": {
          "base_uri": "https://localhost:8080/",
          "height": 191
        },
        "outputId": "2f2bc08e-eab7-4499-9f82-de5211ff76c9"
      },
      "source": [
        "print(X)"
      ],
      "execution_count": 8,
      "outputs": [
        {
          "output_type": "stream",
          "text": [
            "[[1.0 0.0 0.0 44.0 72000.0]\n",
            " [0.0 0.0 1.0 27.0 48000.0]\n",
            " [0.0 1.0 0.0 30.0 54000.0]\n",
            " [0.0 0.0 1.0 38.0 61000.0]\n",
            " [0.0 1.0 0.0 40.0 63777.77777777778]\n",
            " [1.0 0.0 0.0 35.0 58000.0]\n",
            " [0.0 0.0 1.0 38.77777777777778 52000.0]\n",
            " [1.0 0.0 0.0 48.0 79000.0]\n",
            " [0.0 1.0 0.0 50.0 83000.0]\n",
            " [1.0 0.0 0.0 37.0 67000.0]]\n"
          ],
          "name": "stdout"
        }
      ]
    },
    {
      "cell_type": "markdown",
      "metadata": {
        "id": "DXh8oVSITIc6",
        "colab_type": "text"
      },
      "source": [
        "### Encoding the Dependent Variable"
      ]
    },
    {
      "cell_type": "code",
      "metadata": {
        "id": "mnY7xWCn20_o",
        "colab_type": "code",
        "colab": {}
      },
      "source": [
        "from sklearn.preprocessing import LabelEncoder\n",
        "le = LabelEncoder()\n",
        "Y = le.fit_transform(Y)"
      ],
      "execution_count": 9,
      "outputs": []
    },
    {
      "cell_type": "code",
      "metadata": {
        "id": "FyhY8-gPpFCa",
        "colab_type": "code",
        "colab": {
          "base_uri": "https://localhost:8080/",
          "height": 34
        },
        "outputId": "2ad31a2b-70d5-4fc8-9d60-fed0d3b9f03c"
      },
      "source": [
        "print(Y)"
      ],
      "execution_count": 10,
      "outputs": [
        {
          "output_type": "stream",
          "text": [
            "[0 1 0 0 1 1 0 1 0 1]\n"
          ],
          "name": "stdout"
        }
      ]
    },
    {
      "cell_type": "markdown",
      "metadata": {
        "id": "qb_vcgm3qZKW",
        "colab_type": "text"
      },
      "source": [
        "## Splitting the dataset into the Training set and Test set"
      ]
    },
    {
      "cell_type": "markdown",
      "metadata": {
        "id": "qm0BzNaM5SJX",
        "colab_type": "text"
      },
      "source": [
        "We are going to split our dataset into the training dataset and test dataset. we will be trained a dataset to estimate the best parameters and performance for a ML model. Its implementation estimates standard deviation between the output model and training output dataset. The test dataset will be used to know if our model is closed with our test output set."
      ]
    },
    {
      "cell_type": "code",
      "metadata": {
        "id": "pXgA6CzlqbCl",
        "colab_type": "code",
        "colab": {}
      },
      "source": [
        "from sklearn.model_selection import train_test_split\n",
        "X_train, X_test, Y_train, Y_test = train_test_split(X, Y, test_size = 0.2, random_state = 1)"
      ],
      "execution_count": 11,
      "outputs": []
    },
    {
      "cell_type": "code",
      "metadata": {
        "id": "GuwQhFdKrYTM",
        "colab_type": "code",
        "colab": {
          "base_uri": "https://localhost:8080/",
          "height": 156
        },
        "outputId": "57953729-dd6d-419d-9d32-dff65a96c0b3"
      },
      "source": [
        "print(X_train)"
      ],
      "execution_count": 12,
      "outputs": [
        {
          "output_type": "stream",
          "text": [
            "[[0.0 0.0 1.0 38.77777777777778 52000.0]\n",
            " [0.0 1.0 0.0 40.0 63777.77777777778]\n",
            " [1.0 0.0 0.0 44.0 72000.0]\n",
            " [0.0 0.0 1.0 38.0 61000.0]\n",
            " [0.0 0.0 1.0 27.0 48000.0]\n",
            " [1.0 0.0 0.0 48.0 79000.0]\n",
            " [0.0 1.0 0.0 50.0 83000.0]\n",
            " [1.0 0.0 0.0 35.0 58000.0]]\n"
          ],
          "name": "stdout"
        }
      ]
    },
    {
      "cell_type": "code",
      "metadata": {
        "id": "TUrX_Tvcrbi4",
        "colab_type": "code",
        "colab": {
          "base_uri": "https://localhost:8080/",
          "height": 52
        },
        "outputId": "f5b30d44-017b-470a-efd5-86031ec9c131"
      },
      "source": [
        "print(X_test)"
      ],
      "execution_count": 13,
      "outputs": [
        {
          "output_type": "stream",
          "text": [
            "[[0.0 1.0 0.0 30.0 54000.0]\n",
            " [1.0 0.0 0.0 37.0 67000.0]]\n"
          ],
          "name": "stdout"
        }
      ]
    },
    {
      "cell_type": "code",
      "metadata": {
        "id": "pSMHiIsWreQY",
        "colab_type": "code",
        "colab": {
          "base_uri": "https://localhost:8080/",
          "height": 34
        },
        "outputId": "77cf3a49-2da2-41dd-a657-7c5dd607aa98"
      },
      "source": [
        "print(Y_train)"
      ],
      "execution_count": 14,
      "outputs": [
        {
          "output_type": "stream",
          "text": [
            "[0 1 0 0 1 1 0 1]\n"
          ],
          "name": "stdout"
        }
      ]
    },
    {
      "cell_type": "code",
      "metadata": {
        "id": "I_tW7H56rgtW",
        "colab_type": "code",
        "colab": {
          "base_uri": "https://localhost:8080/",
          "height": 34
        },
        "outputId": "8f59e3e7-7387-4435-bcf9-d0bac5b43c01"
      },
      "source": [
        "print(Y_test)"
      ],
      "execution_count": 15,
      "outputs": [
        {
          "output_type": "stream",
          "text": [
            "[0 1]\n"
          ],
          "name": "stdout"
        }
      ]
    },
    {
      "cell_type": "markdown",
      "metadata": {
        "id": "TpGqbS4TqkIR",
        "colab_type": "text"
      },
      "source": [
        "## Feature Scaling"
      ]
    },
    {
      "cell_type": "markdown",
      "metadata": {
        "id": "Hhpfj4ow1ien",
        "colab_type": "text"
      },
      "source": [
        "scaling significa colocar todos los datos en el mismo orden, evitando que la gran diferencia existente entre ellos, perjudique el entrenamiento del modelo de ML.\n",
        "\n",
        "![metodos scaling.png](data:image/png;base64,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)\n",
        "the first method is __standardisation__, where it is used mean and standard deviation. the second method is __normalisation__ where we use the min and max values and calcule every value inside a range. Normalization is recommended when you have a normal distribution. In the other hand, standartisation is recommended in a plenty of cases."
      ]
    },
    {
      "cell_type": "code",
      "metadata": {
        "id": "AxjSUXFQqo-3",
        "colab_type": "code",
        "colab": {}
      },
      "source": [
        "from sklearn.preprocessing import StandardScaler\n",
        "sc = StandardScaler()\n",
        "X_train[:, 3:] = sc.fit_transform(X_train[:, 3:])\n",
        "X_test[:, 3:] = sc.transform(X_test[:, 3:])"
      ],
      "execution_count": 16,
      "outputs": []
    },
    {
      "cell_type": "code",
      "metadata": {
        "id": "DWPET8ZdlMnu",
        "colab_type": "code",
        "colab": {
          "base_uri": "https://localhost:8080/",
          "height": 156
        },
        "outputId": "131bfe27-c441-4e91-a8bb-a99f404df4ee"
      },
      "source": [
        "print(X_train)"
      ],
      "execution_count": 17,
      "outputs": [
        {
          "output_type": "stream",
          "text": [
            "[[0.0 0.0 1.0 -0.19159184384578545 -1.0781259408412425]\n",
            " [0.0 1.0 0.0 -0.014117293757057777 -0.07013167641635372]\n",
            " [1.0 0.0 0.0 0.566708506533324 0.633562432710455]\n",
            " [0.0 0.0 1.0 -0.30453019390224867 -0.30786617274297867]\n",
            " [0.0 0.0 1.0 -1.9018011447007988 -1.420463615551582]\n",
            " [1.0 0.0 0.0 1.1475343068237058 1.232653363453549]\n",
            " [0.0 1.0 0.0 1.4379472069688968 1.5749910381638885]\n",
            " [1.0 0.0 0.0 -0.7401495441200351 -0.5646194287757332]]\n"
          ],
          "name": "stdout"
        }
      ]
    },
    {
      "cell_type": "code",
      "metadata": {
        "id": "sTXykB_QlRjE",
        "colab_type": "code",
        "colab": {
          "base_uri": "https://localhost:8080/",
          "height": 52
        },
        "outputId": "cc7ac27d-be56-45d5-ec1e-cd12455f6521"
      },
      "source": [
        "print(X_test)"
      ],
      "execution_count": 18,
      "outputs": [
        {
          "output_type": "stream",
          "text": [
            "[[0.0 1.0 0.0 -1.4661817944830124 -0.9069571034860727]\n",
            " [1.0 0.0 0.0 -0.44973664397484414 0.2056403393225306]]\n"
          ],
          "name": "stdout"
        }
      ]
    }
  ]
}